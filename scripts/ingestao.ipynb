{
 "cells": [
  {
   "cell_type": "code",
   "execution_count": null,
   "id": "0fbe2a1e",
   "metadata": {},
   "outputs": [],
   "source": [
    "import duckdb\n",
    "import pandas as pd\n",
    "import os\n",
    "from datetime import datetime"
   ]
  },
  {
   "cell_type": "code",
   "execution_count": null,
   "id": "8b47f2cf",
   "metadata": {},
   "outputs": [],
   "source": [
    "con = duckdb.connect(database='dados_duckdb.db', read_only=False)"
   ]
  },
  {
   "cell_type": "code",
   "execution_count": null,
   "id": "587c35dd",
   "metadata": {},
   "outputs": [],
   "source": [
    "arquivo = 'z0019_1.csv'\n",
    "data_ingestao = datetime.now()\n",
    "df =  pd.read_csv(f'../landing/{arquivo}', sep =';')\n",
    "df['nome_arquivo'] =  arquivo\n",
    "df['data_ingestao'] = data_ingestao\n",
    "\n",
    "df.head()"
   ]
  },
  {
   "cell_type": "code",
   "execution_count": null,
   "id": "63aca757",
   "metadata": {},
   "outputs": [],
   "source": [
    "con.execute(\"\"\"\n",
    "    CREATE TABLE IF NOT EXISTS bronze_produtos (\n",
    "        NATBR VARCHAR,\n",
    "        MAKTX VARCHAR,\n",
    "        WERKS VARCHAR,\n",
    "        MAINS VARCHAR,\n",
    "        LABST VARCHAR,\n",
    "        nome_arquivo VARCHAR,\n",
    "        data_ingestao TIMESTAMP\n",
    "    )\n",
    "\"\"\")"
   ]
  },
  {
   "cell_type": "code",
   "execution_count": null,
   "id": "d3c2a924",
   "metadata": {},
   "outputs": [],
   "source": [
    "con.execute(\"INSERT INTO bronze_produtos SELECT * FROM df\")"
   ]
  },
  {
   "cell_type": "code",
   "execution_count": null,
   "id": "6f60ec65",
   "metadata": {},
   "outputs": [],
   "source": [
    "resultado = con.execute(\"SELECT * FROM bronze_z0019\").fetchdf()\n",
    "resultado.head(6)"
   ]
  },
  {
   "cell_type": "code",
   "execution_count": null,
   "id": "a217d132",
   "metadata": {},
   "outputs": [],
   "source": [
    "con.execute(\"ALTER TABLE bronze_produtos RENAME TO bronze_z0019\")"
   ]
  },
  {
   "cell_type": "code",
   "execution_count": null,
   "id": "db99c88c",
   "metadata": {},
   "outputs": [],
   "source": [
    "con.close()"
   ]
  }
 ],
 "metadata": {
  "kernelspec": {
   "display_name": "Python 3",
   "language": "python",
   "name": "python3"
  },
  "language_info": {
   "codemirror_mode": {
    "name": "ipython",
    "version": 3
   },
   "file_extension": ".py",
   "mimetype": "text/x-python",
   "name": "python",
   "nbconvert_exporter": "python",
   "pygments_lexer": "ipython3",
   "version": "3.13.2"
  }
 },
 "nbformat": 4,
 "nbformat_minor": 5
}
