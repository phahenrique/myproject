{
 "cells": [
  {
   "cell_type": "code",
   "execution_count": null,
   "id": "845d2bfd",
   "metadata": {},
   "outputs": [],
   "source": [
    "import duckdb\n"
   ]
  },
  {
   "cell_type": "code",
   "execution_count": null,
   "id": "e61f73f1",
   "metadata": {},
   "outputs": [],
   "source": [
    "con = duckdb.connect(database='dados_duckdb.db', read_only=False)"
   ]
  },
  {
   "cell_type": "code",
   "execution_count": null,
   "id": "0740cce9",
   "metadata": {},
   "outputs": [],
   "source": [
    "df = con.execute(\"select * from produtos\").fetchdf()\n",
    "\n",
    "df.head(10)"
   ]
  },
  {
   "cell_type": "code",
   "execution_count": null,
   "id": "2da8814e",
   "metadata": {},
   "outputs": [],
   "source": [
    "df2 = df.drop(columns=['id_categoria', 'id_fornecedor'])\n",
    "\n",
    "df2.head(20)"
   ]
  },
  {
   "cell_type": "code",
   "execution_count": null,
   "id": "c1000d84",
   "metadata": {},
   "outputs": [],
   "source": [
    "con.execute(\"\"\"\n",
    "    CREATE TABLE IF NOT EXISTS dim_produtos (\n",
    "            id_produto BIGINT,\n",
    "            nm_produto TEXT,\n",
    "            vl_produto FLOAT\n",
    "            )\n",
    "\"\"\")"
   ]
  },
  {
   "cell_type": "code",
   "execution_count": null,
   "id": "1ce5342d",
   "metadata": {},
   "outputs": [],
   "source": [
    "df2.head()"
   ]
  },
  {
   "cell_type": "code",
   "execution_count": null,
   "id": "2b53112f",
   "metadata": {},
   "outputs": [],
   "source": [
    "con.execute(\"INSERT INTO dim_produtos SELECT * FROM df2\")"
   ]
  },
  {
   "cell_type": "code",
   "execution_count": null,
   "id": "66a7c015",
   "metadata": {},
   "outputs": [],
   "source": [
    "df_dim = con.execute(\"select * from dim_produtos\").fetchdf()\n",
    "\n",
    "df_dim.head()"
   ]
  },
  {
   "cell_type": "code",
   "execution_count": 31,
   "id": "83a5870b",
   "metadata": {},
   "outputs": [],
   "source": [
    "con.close()"
   ]
  }
 ],
 "metadata": {
  "kernelspec": {
   "display_name": "Python 3",
   "language": "python",
   "name": "python3"
  },
  "language_info": {
   "codemirror_mode": {
    "name": "ipython",
    "version": 3
   },
   "file_extension": ".py",
   "mimetype": "text/x-python",
   "name": "python",
   "nbconvert_exporter": "python",
   "pygments_lexer": "ipython3",
   "version": "3.13.2"
  }
 },
 "nbformat": 4,
 "nbformat_minor": 5
}
