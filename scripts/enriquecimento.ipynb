{
 "cells": [
  {
   "cell_type": "code",
   "execution_count": null,
   "id": "cbabc381",
   "metadata": {},
   "outputs": [],
   "source": [
    "import duckdb   "
   ]
  },
  {
   "cell_type": "code",
   "execution_count": null,
   "id": "033b110e",
   "metadata": {},
   "outputs": [],
   "source": [
    "con = duckdb.connect(database='dados_duckdb.db', read_only=False)"
   ]
  },
  {
   "cell_type": "code",
   "execution_count": null,
   "id": "783ae555",
   "metadata": {},
   "outputs": [],
   "source": [
    "df = con.execute(\"\"\"\n",
    "                 SELECT * \n",
    "                 FROM ( \n",
    "                    SELECT *, ROW_NUMBER() OVER (PARTITION BY NATBR ORDER BY data_ingestao DESC) AS row\n",
    "                    FROM bronze_z0019\n",
    "                    WHERE data_ingestao >= '2025-05-03'\n",
    "                 ) WHERE row = 1\n",
    "                    \"\"\").fetchdf()\n",
    "\n",
    "\n",
    "df.head(20)\n"
   ]
  },
  {
   "cell_type": "code",
   "execution_count": null,
   "id": "7ce727e0",
   "metadata": {},
   "outputs": [],
   "source": [
    "df_final = df.drop(columns=['nome_arquivo', 'data_ingestao','row'])\n",
    "\n",
    "\n",
    "df_final = df_final.rename(columns={\"NATBR\": \"id\"})\n",
    "df_final = df_final.rename(columns={\"MAKTX\": \"nm_produto\"})\n",
    "df_final = df_final.rename(columns={\"WERKS\": \"id_categoria\"})\n",
    "df_final = df_final.rename(columns={\"MAINS\": \"id_fornecedor\"})\n",
    "df_final = df_final.rename(columns={\"LABST\": \"vl_preco\"})\n",
    "\n",
    "df_final\n",
    "\n",
    "\n"
   ]
  },
  {
   "cell_type": "code",
   "execution_count": null,
   "id": "a7c39b33",
   "metadata": {},
   "outputs": [],
   "source": [
    "df_final.dtypes"
   ]
  },
  {
   "cell_type": "code",
   "execution_count": null,
   "id": "42e1ba53",
   "metadata": {},
   "outputs": [],
   "source": [
    "df2 = df_final\n",
    "df2 = df2.astype(\n",
    "    {\n",
    "        'id': int,\n",
    "        'nm_produto': str,\n",
    "        'id_categoria': str,\n",
    "        'id_fornecedor':int,\n",
    "        'vl_preco': float \n",
    "        \n",
    "    }\n",
    ")\n",
    "\n",
    "df2.dtypes\n"
   ]
  },
  {
   "cell_type": "code",
   "execution_count": null,
   "id": "58b8f7c3",
   "metadata": {},
   "outputs": [],
   "source": [
    "con.execute(\"\"\"\n",
    "CREATE TABLE IF NOT EXISTS produtos (\n",
    "            id BIGINT,\n",
    "            nm_produto TEXT,\n",
    "            id_categoria TEXT,\n",
    "            id_fornecedor BIGINT,\n",
    "            vl_preco FLOAT\n",
    "            )\n",
    "\"\"\")"
   ]
  },
  {
   "cell_type": "code",
   "execution_count": null,
   "id": "a357beb1",
   "metadata": {},
   "outputs": [],
   "source": [
    "df2.head()"
   ]
  },
  {
   "cell_type": "code",
   "execution_count": null,
   "id": "319391e8",
   "metadata": {},
   "outputs": [],
   "source": [
    "con.execute(\"INSERT INTO produtos SELECT * FROM df2\")"
   ]
  },
  {
   "cell_type": "code",
   "execution_count": null,
   "id": "023a2e9a",
   "metadata": {},
   "outputs": [],
   "source": [
    "df_resultado = con.execute(\"SELECT* FROM produtos\").fetchdf()\n",
    "\n",
    "df_resultado.head(10)\n",
    "\n"
   ]
  },
  {
   "cell_type": "code",
   "execution_count": null,
   "id": "b4a7659c",
   "metadata": {},
   "outputs": [],
   "source": [
    "con.close()"
   ]
  }
 ],
 "metadata": {
  "kernelspec": {
   "display_name": "Python 3",
   "language": "python",
   "name": "python3"
  },
  "language_info": {
   "codemirror_mode": {
    "name": "ipython",
    "version": 3
   },
   "file_extension": ".py",
   "mimetype": "text/x-python",
   "name": "python",
   "nbconvert_exporter": "python",
   "pygments_lexer": "ipython3",
   "version": "3.13.2"
  }
 },
 "nbformat": 4,
 "nbformat_minor": 5
}
